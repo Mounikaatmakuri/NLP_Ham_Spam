{
 "cells": [
  {
   "cell_type": "code",
   "execution_count": 1,
   "id": "922602c0",
   "metadata": {},
   "outputs": [],
   "source": [
    "import pandas as pd                                         # importing all the libraries required \n",
    "import nltk\n",
    "#nltk.download('punkt')\n",
    "import string\n",
    "from nltk.corpus import stopwords\n",
    "from nltk.stem import PorterStemmer\n",
    "from sklearn.model_selection import train_test_split "
   ]
  },
  {
   "cell_type": "code",
   "execution_count": 2,
   "id": "8ecc5054",
   "metadata": {},
   "outputs": [
    {
     "name": "stdout",
     "output_type": "stream",
     "text": [
      "Subject : enron methanol ; meter # : 988291 this is a follow up to the note i gave you on monday , 4 / 3 / 00 { preliminary flow data provided by daren } . please override pop ' s daily volume { presently zero } to reflect daily activity you can obtain from gas control . this change is needed asap for economics purposes .\n"
     ]
    }
   ],
   "source": [
    "#1.################################################################################################################\n",
    "df = pd.read_csv('spam_ham_dataset.csv')                    # reading the csv file into dataframe \n",
    "def tok_words(text):                                        # tokenising the text content of the dataframe\n",
    "    '''\n",
    "    word tokenization\n",
    "    '''\n",
    "    a = nltk.word_tokenize(text)                            # applying word tokenization for words in text column\n",
    "    return ' '.join(a)  \n",
    "df['text'] = df['text'].apply(tok_words)\n",
    "print(df['text'][0])                                        # for easy demonstration applied for text df['text'][0]"
   ]
  },
  {
   "cell_type": "code",
   "execution_count": 3,
   "id": "5743a8d9",
   "metadata": {},
   "outputs": [
    {
     "name": "stdout",
     "output_type": "stream",
     "text": [
      "['Subject', 'enron', 'methanol', 'meter', '988291', 'follow', 'note', 'gave', 'monday', '4', '3', '00', 'preliminary', 'flow', 'data', 'provided', 'daren', 'please', 'override', 'pop', 'daily', 'volume', 'presently', 'zero', 'reflect', 'daily', 'activity', 'obtain', 'gas', 'control', 'change', 'needed', 'asap', 'economics', 'purposes']\n"
     ]
    }
   ],
   "source": [
    "#2.################################################################################################################\n",
    "def remove_sw_pun(mess):                                    # removing stopwords and punctuation from the text\n",
    "    '''\n",
    "    1.remove punctuations using string.punctuation()\n",
    "    2.remove stopwords\n",
    "    3.return list of clean words\n",
    "    '''\n",
    "    nopunc = [c for c in mess if c not in string.punctuation]\n",
    "    nopunc = ''.join(nopunc)\n",
    "    clean_words = [nopunc for nopunc in nopunc.split() if nopunc not in stopwords.words('english') ]\n",
    "    return clean_words\n",
    "df['text'] = df['text'].apply(remove_sw_pun)\n",
    "print(df['text'][0])                                        # for easy demonstration applied for df['text'][0]"
   ]
  },
  {
   "cell_type": "code",
   "execution_count": 4,
   "id": "d07482c4",
   "metadata": {},
   "outputs": [
    {
     "name": "stdout",
     "output_type": "stream",
     "text": [
      "['subject', 'enron', 'methanol', 'meter', '988291', 'follow', 'note', 'gave', 'monday', '4', '3', '00', 'preliminari', 'flow', 'data', 'provid', 'daren', 'pleas', 'overrid', 'pop', 'daili', 'volum', 'present', 'zero', 'reflect', 'daili', 'activ', 'obtain', 'ga', 'control', 'chang', 'need', 'asap', 'econom', 'purpos']\n"
     ]
    }
   ],
   "source": [
    "#3.################################################################################################################\n",
    "stemmer = PorterStemmer()                                   # creating object for stemming the words\n",
    "def stemming_words(g):                                      # function to stem the words to their root word\n",
    "    '''\n",
    "    using stemming to consolidate inflected words to their root words\n",
    "    '''\n",
    "    return [stemmer.stem(g[i]) for i in range(len(g))]\n",
    "df['text'] = df['text'].apply(stemming_words)\n",
    "print(df['text'][0])                                        # for easy demonstration applied for df['text'][0]"
   ]
  },
  {
   "cell_type": "code",
   "execution_count": 5,
   "id": "d5205bc4",
   "metadata": {},
   "outputs": [
    {
     "name": "stdout",
     "output_type": "stream",
     "text": [
      "subject enron methanol meter 988291 follow note gave monday 4 3 00 preliminari flow data provid daren pleas overrid pop daili volum present zero reflect daili activ obtain ga control chang need asap econom purpos\n"
     ]
    }
   ],
   "source": [
    "def list_to_sent(my_list):                                  # converting list of words back to sentence\n",
    "    result_string = ' '.join(my_list)\n",
    "    return result_string\n",
    "df['text'] = df['text'].apply(list_to_sent)\n",
    "print(df['text'][0])                                        # for easy demonstration applied for df['text'][0]"
   ]
  },
  {
   "cell_type": "code",
   "execution_count": 6,
   "id": "b139e8d8",
   "metadata": {},
   "outputs": [
    {
     "data": {
      "text/html": [
       "<div>\n",
       "<style scoped>\n",
       "    .dataframe tbody tr th:only-of-type {\n",
       "        vertical-align: middle;\n",
       "    }\n",
       "\n",
       "    .dataframe tbody tr th {\n",
       "        vertical-align: top;\n",
       "    }\n",
       "\n",
       "    .dataframe thead th {\n",
       "        text-align: right;\n",
       "    }\n",
       "</style>\n",
       "<table border=\"1\" class=\"dataframe\">\n",
       "  <thead>\n",
       "    <tr style=\"text-align: right;\">\n",
       "      <th></th>\n",
       "      <th>Unnamed: 0</th>\n",
       "      <th>label</th>\n",
       "      <th>text</th>\n",
       "      <th>label_num</th>\n",
       "      <th>y</th>\n",
       "    </tr>\n",
       "  </thead>\n",
       "  <tbody>\n",
       "    <tr>\n",
       "      <th>0</th>\n",
       "      <td>605</td>\n",
       "      <td>ham</td>\n",
       "      <td>subject enron methanol meter 988291 follow not...</td>\n",
       "      <td>0</td>\n",
       "      <td>ham</td>\n",
       "    </tr>\n",
       "    <tr>\n",
       "      <th>1</th>\n",
       "      <td>2349</td>\n",
       "      <td>ham</td>\n",
       "      <td>subject hpl nom januari 9 2001 see attach file...</td>\n",
       "      <td>0</td>\n",
       "      <td>ham</td>\n",
       "    </tr>\n",
       "  </tbody>\n",
       "</table>\n",
       "</div>"
      ],
      "text/plain": [
       "   Unnamed: 0 label                                               text  \\\n",
       "0         605   ham  subject enron methanol meter 988291 follow not...   \n",
       "1        2349   ham  subject hpl nom januari 9 2001 see attach file...   \n",
       "\n",
       "   label_num    y  \n",
       "0          0  ham  \n",
       "1          0  ham  "
      ]
     },
     "execution_count": 6,
     "metadata": {},
     "output_type": "execute_result"
    }
   ],
   "source": [
    "#4.################################################################################################################\n",
    "df['y']= df['label']                                        # creating another column of y in the dataframe\n",
    "df.head(2)                                                  # for easy demonstration showing top two of dataframe"
   ]
  },
  {
   "cell_type": "code",
   "execution_count": 7,
   "id": "d7f798f5",
   "metadata": {},
   "outputs": [
    {
     "name": "stdout",
     "output_type": "stream",
     "text": [
      "3322    subject sean well resum interest forward brend...\n",
      "3975    subject hpl nom may 24 2001 see attach file hp...\n",
      "4214    subject anxieti valium xanax pay valium xanax ...\n",
      "Name: text, dtype: object\n",
      "375     subject request applic report list follow earl...\n",
      "1936    subject fw feb 01 invoic daren purchas beaumon...\n",
      "4487    subject hey tuscani selfish avert fitch canto ...\n",
      "Name: text, dtype: object\n",
      "3322     ham\n",
      "3975     ham\n",
      "4214    spam\n",
      "Name: y, dtype: object\n",
      "375      ham\n",
      "1936     ham\n",
      "4487    spam\n",
      "Name: y, dtype: object\n"
     ]
    }
   ],
   "source": [
    "#5.################################################################################################################\n",
    "text_train,text_test,y_train,y_test = train_test_split(df['text'],df['y'],test_size=0.2,stratify=df['y'],random_state=17)\n",
    "print(text_train.head(3))                                     # splitting the data into train and test data\n",
    "print(text_test.head(3))                                      # printing the top 3 values of each test and train data \n",
    "print(y_train.head(3))\n",
    "print(y_test.head(3))"
   ]
  },
  {
   "cell_type": "code",
   "execution_count": 8,
   "id": "3c52a005",
   "metadata": {},
   "outputs": [],
   "source": [
    "from sklearn.feature_extraction.text import CountVectorizer , TfidfVectorizer  # importing necessary libraries \n",
    "from sklearn.feature_extraction.text import TfidfTransformer\n",
    "from sklearn.linear_model import LogisticRegression\n",
    "from sklearn.metrics import classification_report,f1_score, accuracy_score\n",
    "from sklearn.pipeline import Pipeline"
   ]
  },
  {
   "cell_type": "code",
   "execution_count": 9,
   "id": "6605eebb",
   "metadata": {},
   "outputs": [],
   "source": [
    "cv = CountVectorizer(analyzer=remove_sw_pun).fit(text_train) # using CountVectorizer to find word value from bagofwords\n",
    "bow_cv = cv.transform(text_train)                            # fitting and transforming train data\n",
    "bow_cv_text = cv.transform(text_test)                        # transforming test data"
   ]
  },
  {
   "cell_type": "code",
   "execution_count": 10,
   "id": "da970a19",
   "metadata": {},
   "outputs": [],
   "source": [
    "itf = TfidfTransformer().fit(bow_cv)                      # using TfidfTransformer to find term freq inverse document freq of a word\n",
    "bow_itf = itf.transform(bow_cv)                           # fitting and transforming train data\n",
    "bow_itf_test = itf.transform(bow_cv_text)                 # transforming test data"
   ]
  },
  {
   "cell_type": "code",
   "execution_count": 11,
   "id": "89d3d059",
   "metadata": {},
   "outputs": [],
   "source": [
    "lr = LogisticRegression().fit(bow_itf,y_train)            # creating logistic regr. object and fitting X_train,y_train\n",
    "predictions =lr.predict(bow_itf_test)                     # predictions of mode on test data(X_test)"
   ]
  },
  {
   "cell_type": "code",
   "execution_count": 12,
   "id": "93bfac58",
   "metadata": {},
   "outputs": [
    {
     "name": "stdout",
     "output_type": "stream",
     "text": [
      "              precision    recall  f1-score   support\n",
      "\n",
      "         ham       1.00      0.99      0.99       735\n",
      "        spam       0.97      1.00      0.99       300\n",
      "\n",
      "    accuracy                           0.99      1035\n",
      "   macro avg       0.99      0.99      0.99      1035\n",
      "weighted avg       0.99      0.99      0.99      1035\n",
      "\n"
     ]
    }
   ],
   "source": [
    "print(classification_report(y_test,predictions))          # printing classification report and showing f1-score and score"
   ]
  },
  {
   "cell_type": "code",
   "execution_count": 13,
   "id": "f0b22ad8",
   "metadata": {},
   "outputs": [],
   "source": [
    "###################################################################################################################"
   ]
  },
  {
   "cell_type": "code",
   "execution_count": 14,
   "id": "55251809",
   "metadata": {},
   "outputs": [],
   "source": [
    "pipeline = Pipeline([                                          \n",
    "            ('bow',CountVectorizer(analyzer=remove_sw_pun)),\n",
    "            ('tftdf',TfidfTransformer()),\n",
    "            ('classifier',LogisticRegression())\n",
    "            ])                                       # this is the alternate method using pipeline"
   ]
  },
  {
   "cell_type": "code",
   "execution_count": 15,
   "id": "3ec235e3",
   "metadata": {},
   "outputs": [
    {
     "data": {
      "text/html": [
       "<style>#sk-container-id-1 {color: black;}#sk-container-id-1 pre{padding: 0;}#sk-container-id-1 div.sk-toggleable {background-color: white;}#sk-container-id-1 label.sk-toggleable__label {cursor: pointer;display: block;width: 100%;margin-bottom: 0;padding: 0.3em;box-sizing: border-box;text-align: center;}#sk-container-id-1 label.sk-toggleable__label-arrow:before {content: \"▸\";float: left;margin-right: 0.25em;color: #696969;}#sk-container-id-1 label.sk-toggleable__label-arrow:hover:before {color: black;}#sk-container-id-1 div.sk-estimator:hover label.sk-toggleable__label-arrow:before {color: black;}#sk-container-id-1 div.sk-toggleable__content {max-height: 0;max-width: 0;overflow: hidden;text-align: left;background-color: #f0f8ff;}#sk-container-id-1 div.sk-toggleable__content pre {margin: 0.2em;color: black;border-radius: 0.25em;background-color: #f0f8ff;}#sk-container-id-1 input.sk-toggleable__control:checked~div.sk-toggleable__content {max-height: 200px;max-width: 100%;overflow: auto;}#sk-container-id-1 input.sk-toggleable__control:checked~label.sk-toggleable__label-arrow:before {content: \"▾\";}#sk-container-id-1 div.sk-estimator input.sk-toggleable__control:checked~label.sk-toggleable__label {background-color: #d4ebff;}#sk-container-id-1 div.sk-label input.sk-toggleable__control:checked~label.sk-toggleable__label {background-color: #d4ebff;}#sk-container-id-1 input.sk-hidden--visually {border: 0;clip: rect(1px 1px 1px 1px);clip: rect(1px, 1px, 1px, 1px);height: 1px;margin: -1px;overflow: hidden;padding: 0;position: absolute;width: 1px;}#sk-container-id-1 div.sk-estimator {font-family: monospace;background-color: #f0f8ff;border: 1px dotted black;border-radius: 0.25em;box-sizing: border-box;margin-bottom: 0.5em;}#sk-container-id-1 div.sk-estimator:hover {background-color: #d4ebff;}#sk-container-id-1 div.sk-parallel-item::after {content: \"\";width: 100%;border-bottom: 1px solid gray;flex-grow: 1;}#sk-container-id-1 div.sk-label:hover label.sk-toggleable__label {background-color: #d4ebff;}#sk-container-id-1 div.sk-serial::before {content: \"\";position: absolute;border-left: 1px solid gray;box-sizing: border-box;top: 0;bottom: 0;left: 50%;z-index: 0;}#sk-container-id-1 div.sk-serial {display: flex;flex-direction: column;align-items: center;background-color: white;padding-right: 0.2em;padding-left: 0.2em;position: relative;}#sk-container-id-1 div.sk-item {position: relative;z-index: 1;}#sk-container-id-1 div.sk-parallel {display: flex;align-items: stretch;justify-content: center;background-color: white;position: relative;}#sk-container-id-1 div.sk-item::before, #sk-container-id-1 div.sk-parallel-item::before {content: \"\";position: absolute;border-left: 1px solid gray;box-sizing: border-box;top: 0;bottom: 0;left: 50%;z-index: -1;}#sk-container-id-1 div.sk-parallel-item {display: flex;flex-direction: column;z-index: 1;position: relative;background-color: white;}#sk-container-id-1 div.sk-parallel-item:first-child::after {align-self: flex-end;width: 50%;}#sk-container-id-1 div.sk-parallel-item:last-child::after {align-self: flex-start;width: 50%;}#sk-container-id-1 div.sk-parallel-item:only-child::after {width: 0;}#sk-container-id-1 div.sk-dashed-wrapped {border: 1px dashed gray;margin: 0 0.4em 0.5em 0.4em;box-sizing: border-box;padding-bottom: 0.4em;background-color: white;}#sk-container-id-1 div.sk-label label {font-family: monospace;font-weight: bold;display: inline-block;line-height: 1.2em;}#sk-container-id-1 div.sk-label-container {text-align: center;}#sk-container-id-1 div.sk-container {/* jupyter's `normalize.less` sets `[hidden] { display: none; }` but bootstrap.min.css set `[hidden] { display: none !important; }` so we also need the `!important` here to be able to override the default hidden behavior on the sphinx rendered scikit-learn.org. See: https://github.com/scikit-learn/scikit-learn/issues/21755 */display: inline-block !important;position: relative;}#sk-container-id-1 div.sk-text-repr-fallback {display: none;}</style><div id=\"sk-container-id-1\" class=\"sk-top-container\"><div class=\"sk-text-repr-fallback\"><pre>Pipeline(steps=[(&#x27;bow&#x27;,\n",
       "                 CountVectorizer(analyzer=&lt;function remove_sw_pun at 0x163b728e0&gt;)),\n",
       "                (&#x27;tftdf&#x27;, TfidfTransformer()),\n",
       "                (&#x27;classifier&#x27;, LogisticRegression())])</pre><b>In a Jupyter environment, please rerun this cell to show the HTML representation or trust the notebook. <br />On GitHub, the HTML representation is unable to render, please try loading this page with nbviewer.org.</b></div><div class=\"sk-container\" hidden><div class=\"sk-item sk-dashed-wrapped\"><div class=\"sk-label-container\"><div class=\"sk-label sk-toggleable\"><input class=\"sk-toggleable__control sk-hidden--visually\" id=\"sk-estimator-id-1\" type=\"checkbox\" ><label for=\"sk-estimator-id-1\" class=\"sk-toggleable__label sk-toggleable__label-arrow\">Pipeline</label><div class=\"sk-toggleable__content\"><pre>Pipeline(steps=[(&#x27;bow&#x27;,\n",
       "                 CountVectorizer(analyzer=&lt;function remove_sw_pun at 0x163b728e0&gt;)),\n",
       "                (&#x27;tftdf&#x27;, TfidfTransformer()),\n",
       "                (&#x27;classifier&#x27;, LogisticRegression())])</pre></div></div></div><div class=\"sk-serial\"><div class=\"sk-item\"><div class=\"sk-estimator sk-toggleable\"><input class=\"sk-toggleable__control sk-hidden--visually\" id=\"sk-estimator-id-2\" type=\"checkbox\" ><label for=\"sk-estimator-id-2\" class=\"sk-toggleable__label sk-toggleable__label-arrow\">CountVectorizer</label><div class=\"sk-toggleable__content\"><pre>CountVectorizer(analyzer=&lt;function remove_sw_pun at 0x163b728e0&gt;)</pre></div></div></div><div class=\"sk-item\"><div class=\"sk-estimator sk-toggleable\"><input class=\"sk-toggleable__control sk-hidden--visually\" id=\"sk-estimator-id-3\" type=\"checkbox\" ><label for=\"sk-estimator-id-3\" class=\"sk-toggleable__label sk-toggleable__label-arrow\">TfidfTransformer</label><div class=\"sk-toggleable__content\"><pre>TfidfTransformer()</pre></div></div></div><div class=\"sk-item\"><div class=\"sk-estimator sk-toggleable\"><input class=\"sk-toggleable__control sk-hidden--visually\" id=\"sk-estimator-id-4\" type=\"checkbox\" ><label for=\"sk-estimator-id-4\" class=\"sk-toggleable__label sk-toggleable__label-arrow\">LogisticRegression</label><div class=\"sk-toggleable__content\"><pre>LogisticRegression()</pre></div></div></div></div></div></div></div>"
      ],
      "text/plain": [
       "Pipeline(steps=[('bow',\n",
       "                 CountVectorizer(analyzer=<function remove_sw_pun at 0x163b728e0>)),\n",
       "                ('tftdf', TfidfTransformer()),\n",
       "                ('classifier', LogisticRegression())])"
      ]
     },
     "execution_count": 15,
     "metadata": {},
     "output_type": "execute_result"
    }
   ],
   "source": [
    "pipeline.fit(text_train,y_train)                     # fitting train data"
   ]
  },
  {
   "cell_type": "code",
   "execution_count": null,
   "id": "802f0a20",
   "metadata": {},
   "outputs": [],
   "source": []
  },
  {
   "cell_type": "code",
   "execution_count": 16,
   "id": "930cc06e",
   "metadata": {},
   "outputs": [],
   "source": [
    "predictions = pipeline.predict(text_test)           # predicting using test data on the model"
   ]
  },
  {
   "cell_type": "code",
   "execution_count": 17,
   "id": "4892af9c",
   "metadata": {},
   "outputs": [
    {
     "name": "stdout",
     "output_type": "stream",
     "text": [
      "              precision    recall  f1-score   support\n",
      "\n",
      "         ham       1.00      0.99      0.99       735\n",
      "        spam       0.97      1.00      0.99       300\n",
      "\n",
      "    accuracy                           0.99      1035\n",
      "   macro avg       0.99      0.99      0.99      1035\n",
      "weighted avg       0.99      0.99      0.99      1035\n",
      "\n"
     ]
    }
   ],
   "source": [
    "print(classification_report(y_test,predictions))    # showing F1-score and accuracy value for Logistic regression"
   ]
  },
  {
   "cell_type": "code",
   "execution_count": 18,
   "id": "688d54ee",
   "metadata": {},
   "outputs": [
    {
     "name": "stdout",
     "output_type": "stream",
     "text": [
      "The f1-score of the model on spam is: 0.985172981878089\n",
      "The f1-score of the model on ham is: 0.9938482570061518\n",
      "The f1-score of the model is: [0.99384826 0.98517298]\n",
      "The accuracy of the model is 0.991304347826087\n"
     ]
    }
   ],
   "source": [
    "f1s = f1_score(y_test,predictions,pos_label='spam') #alternate method to calculate F1-score and accuracy using f1_score and accuracy_score class\n",
    "print('The f1-score of the model on spam is:',f1s)\n",
    "f1h = f1_score(y_test,predictions,pos_label='ham')\n",
    "print('The f1-score of the model on ham is:',f1h)\n",
    "f1t = f1_score(y_test,predictions,average=None)\n",
    "print('The f1-score of the model is:',f1t)\n",
    "acs = accuracy_score(y_test,predictions)\n",
    "print('The accuracy of the model is',acs)"
   ]
  },
  {
   "cell_type": "code",
   "execution_count": 19,
   "id": "14425bf5",
   "metadata": {},
   "outputs": [],
   "source": [
    "###################################################################################################################"
   ]
  },
  {
   "cell_type": "code",
   "execution_count": 20,
   "id": "54adb8f6",
   "metadata": {},
   "outputs": [],
   "source": [
    "# cv = CountVectorizer(analyzer=remove_sw_pun).fit(text_train) # using CountVectorizer to find word value from bagofwords\n",
    "# bow_cv = cv.transform(text_train)                            # fitting and transforming train data\n",
    "# bow_cv_text = cv.transform(text_test)  "
   ]
  },
  {
   "cell_type": "code",
   "execution_count": 21,
   "id": "6fcc2a35",
   "metadata": {},
   "outputs": [],
   "source": [
    "# lr = LogisticRegression().fit(bow_cv,y_train)            # creating logistic regr. object and fitting X_train,y_train\n",
    "# predictions =lr.predict(bow_cv_text)                     # predictions of mode on test data(X_test)"
   ]
  },
  {
   "cell_type": "code",
   "execution_count": 22,
   "id": "eee29669",
   "metadata": {},
   "outputs": [],
   "source": [
    "# print(classification_report(y_test,predictions)) "
   ]
  },
  {
   "cell_type": "code",
   "execution_count": 23,
   "id": "fd1825e0",
   "metadata": {},
   "outputs": [],
   "source": [
    "pipeline = Pipeline([                                          \n",
    "            ('bow',CountVectorizer(analyzer=remove_sw_pun)),\n",
    "            ('classifier',LogisticRegression())\n",
    "            ])    "
   ]
  },
  {
   "cell_type": "code",
   "execution_count": 24,
   "id": "f10d34a3",
   "metadata": {},
   "outputs": [
    {
     "data": {
      "text/html": [
       "<style>#sk-container-id-2 {color: black;}#sk-container-id-2 pre{padding: 0;}#sk-container-id-2 div.sk-toggleable {background-color: white;}#sk-container-id-2 label.sk-toggleable__label {cursor: pointer;display: block;width: 100%;margin-bottom: 0;padding: 0.3em;box-sizing: border-box;text-align: center;}#sk-container-id-2 label.sk-toggleable__label-arrow:before {content: \"▸\";float: left;margin-right: 0.25em;color: #696969;}#sk-container-id-2 label.sk-toggleable__label-arrow:hover:before {color: black;}#sk-container-id-2 div.sk-estimator:hover label.sk-toggleable__label-arrow:before {color: black;}#sk-container-id-2 div.sk-toggleable__content {max-height: 0;max-width: 0;overflow: hidden;text-align: left;background-color: #f0f8ff;}#sk-container-id-2 div.sk-toggleable__content pre {margin: 0.2em;color: black;border-radius: 0.25em;background-color: #f0f8ff;}#sk-container-id-2 input.sk-toggleable__control:checked~div.sk-toggleable__content {max-height: 200px;max-width: 100%;overflow: auto;}#sk-container-id-2 input.sk-toggleable__control:checked~label.sk-toggleable__label-arrow:before {content: \"▾\";}#sk-container-id-2 div.sk-estimator input.sk-toggleable__control:checked~label.sk-toggleable__label {background-color: #d4ebff;}#sk-container-id-2 div.sk-label input.sk-toggleable__control:checked~label.sk-toggleable__label {background-color: #d4ebff;}#sk-container-id-2 input.sk-hidden--visually {border: 0;clip: rect(1px 1px 1px 1px);clip: rect(1px, 1px, 1px, 1px);height: 1px;margin: -1px;overflow: hidden;padding: 0;position: absolute;width: 1px;}#sk-container-id-2 div.sk-estimator {font-family: monospace;background-color: #f0f8ff;border: 1px dotted black;border-radius: 0.25em;box-sizing: border-box;margin-bottom: 0.5em;}#sk-container-id-2 div.sk-estimator:hover {background-color: #d4ebff;}#sk-container-id-2 div.sk-parallel-item::after {content: \"\";width: 100%;border-bottom: 1px solid gray;flex-grow: 1;}#sk-container-id-2 div.sk-label:hover label.sk-toggleable__label {background-color: #d4ebff;}#sk-container-id-2 div.sk-serial::before {content: \"\";position: absolute;border-left: 1px solid gray;box-sizing: border-box;top: 0;bottom: 0;left: 50%;z-index: 0;}#sk-container-id-2 div.sk-serial {display: flex;flex-direction: column;align-items: center;background-color: white;padding-right: 0.2em;padding-left: 0.2em;position: relative;}#sk-container-id-2 div.sk-item {position: relative;z-index: 1;}#sk-container-id-2 div.sk-parallel {display: flex;align-items: stretch;justify-content: center;background-color: white;position: relative;}#sk-container-id-2 div.sk-item::before, #sk-container-id-2 div.sk-parallel-item::before {content: \"\";position: absolute;border-left: 1px solid gray;box-sizing: border-box;top: 0;bottom: 0;left: 50%;z-index: -1;}#sk-container-id-2 div.sk-parallel-item {display: flex;flex-direction: column;z-index: 1;position: relative;background-color: white;}#sk-container-id-2 div.sk-parallel-item:first-child::after {align-self: flex-end;width: 50%;}#sk-container-id-2 div.sk-parallel-item:last-child::after {align-self: flex-start;width: 50%;}#sk-container-id-2 div.sk-parallel-item:only-child::after {width: 0;}#sk-container-id-2 div.sk-dashed-wrapped {border: 1px dashed gray;margin: 0 0.4em 0.5em 0.4em;box-sizing: border-box;padding-bottom: 0.4em;background-color: white;}#sk-container-id-2 div.sk-label label {font-family: monospace;font-weight: bold;display: inline-block;line-height: 1.2em;}#sk-container-id-2 div.sk-label-container {text-align: center;}#sk-container-id-2 div.sk-container {/* jupyter's `normalize.less` sets `[hidden] { display: none; }` but bootstrap.min.css set `[hidden] { display: none !important; }` so we also need the `!important` here to be able to override the default hidden behavior on the sphinx rendered scikit-learn.org. See: https://github.com/scikit-learn/scikit-learn/issues/21755 */display: inline-block !important;position: relative;}#sk-container-id-2 div.sk-text-repr-fallback {display: none;}</style><div id=\"sk-container-id-2\" class=\"sk-top-container\"><div class=\"sk-text-repr-fallback\"><pre>Pipeline(steps=[(&#x27;bow&#x27;,\n",
       "                 CountVectorizer(analyzer=&lt;function remove_sw_pun at 0x163b728e0&gt;)),\n",
       "                (&#x27;classifier&#x27;, LogisticRegression())])</pre><b>In a Jupyter environment, please rerun this cell to show the HTML representation or trust the notebook. <br />On GitHub, the HTML representation is unable to render, please try loading this page with nbviewer.org.</b></div><div class=\"sk-container\" hidden><div class=\"sk-item sk-dashed-wrapped\"><div class=\"sk-label-container\"><div class=\"sk-label sk-toggleable\"><input class=\"sk-toggleable__control sk-hidden--visually\" id=\"sk-estimator-id-5\" type=\"checkbox\" ><label for=\"sk-estimator-id-5\" class=\"sk-toggleable__label sk-toggleable__label-arrow\">Pipeline</label><div class=\"sk-toggleable__content\"><pre>Pipeline(steps=[(&#x27;bow&#x27;,\n",
       "                 CountVectorizer(analyzer=&lt;function remove_sw_pun at 0x163b728e0&gt;)),\n",
       "                (&#x27;classifier&#x27;, LogisticRegression())])</pre></div></div></div><div class=\"sk-serial\"><div class=\"sk-item\"><div class=\"sk-estimator sk-toggleable\"><input class=\"sk-toggleable__control sk-hidden--visually\" id=\"sk-estimator-id-6\" type=\"checkbox\" ><label for=\"sk-estimator-id-6\" class=\"sk-toggleable__label sk-toggleable__label-arrow\">CountVectorizer</label><div class=\"sk-toggleable__content\"><pre>CountVectorizer(analyzer=&lt;function remove_sw_pun at 0x163b728e0&gt;)</pre></div></div></div><div class=\"sk-item\"><div class=\"sk-estimator sk-toggleable\"><input class=\"sk-toggleable__control sk-hidden--visually\" id=\"sk-estimator-id-7\" type=\"checkbox\" ><label for=\"sk-estimator-id-7\" class=\"sk-toggleable__label sk-toggleable__label-arrow\">LogisticRegression</label><div class=\"sk-toggleable__content\"><pre>LogisticRegression()</pre></div></div></div></div></div></div></div>"
      ],
      "text/plain": [
       "Pipeline(steps=[('bow',\n",
       "                 CountVectorizer(analyzer=<function remove_sw_pun at 0x163b728e0>)),\n",
       "                ('classifier', LogisticRegression())])"
      ]
     },
     "execution_count": 24,
     "metadata": {},
     "output_type": "execute_result"
    }
   ],
   "source": [
    "pipeline.fit(text_train,y_train)                     # fitting train data"
   ]
  },
  {
   "cell_type": "code",
   "execution_count": 25,
   "id": "5264ed91",
   "metadata": {},
   "outputs": [
    {
     "name": "stdout",
     "output_type": "stream",
     "text": [
      "              precision    recall  f1-score   support\n",
      "\n",
      "         ham       0.99      0.98      0.98       735\n",
      "        spam       0.95      0.98      0.96       300\n",
      "\n",
      "    accuracy                           0.98      1035\n",
      "   macro avg       0.97      0.98      0.97      1035\n",
      "weighted avg       0.98      0.98      0.98      1035\n",
      "\n"
     ]
    }
   ],
   "source": [
    "predictions = pipeline.predict(text_test)           # predicting using test data on the model\n",
    "print(classification_report(y_test,predictions))    # showing F1-score and accuracy value for Logistic regression"
   ]
  },
  {
   "cell_type": "code",
   "execution_count": 26,
   "id": "7e055aeb",
   "metadata": {},
   "outputs": [
    {
     "name": "stdout",
     "output_type": "stream",
     "text": [
      "The f1-score of the model on spam is: 0.9638157894736843\n",
      "The f1-score of the model on ham is: 0.9849521203830368\n",
      "The f1-score of the model is: [0.98495212 0.96381579]\n",
      "The accuracy of the model is 0.978743961352657\n"
     ]
    }
   ],
   "source": [
    "f1s = f1_score(y_test,predictions,pos_label='spam') #alternate method to calculate F1-score and accuracy using f1_score and accuracy_score class\n",
    "print('The f1-score of the model on spam is:',f1s)\n",
    "f1h = f1_score(y_test,predictions,pos_label='ham')\n",
    "print('The f1-score of the model on ham is:',f1h)\n",
    "f1t = f1_score(y_test,predictions,average=None)\n",
    "print('The f1-score of the model is:',f1t)\n",
    "acs = accuracy_score(y_test,predictions)\n",
    "print('The accuracy of the model is',acs)"
   ]
  },
  {
   "cell_type": "code",
   "execution_count": 27,
   "id": "020df688",
   "metadata": {},
   "outputs": [],
   "source": [
    "###################################################################################################################"
   ]
  },
  {
   "cell_type": "code",
   "execution_count": 28,
   "id": "7a1c50ac",
   "metadata": {},
   "outputs": [],
   "source": [
    "tf = CountVectorizer(analyzer=remove_sw_pun).fit(text_train) # using CountVectorizer to find word value from bagofwords\n",
    "bow_cv = cv.transform(text_train)                            # fitting and transforming train data\n",
    "bow_cv_text = cv.transform(text_test)  "
   ]
  },
  {
   "cell_type": "code",
   "execution_count": 29,
   "id": "bc6cf7cf-aa09-43a7-bc2b-300b6cde5753",
   "metadata": {},
   "outputs": [],
   "source": [
    "#Your code goes here"
   ]
  },
  {
   "cell_type": "code",
   "execution_count": 30,
   "id": "671e440a",
   "metadata": {},
   "outputs": [],
   "source": [
    "from sklearn.feature_extraction.text import CountVectorizer    # importing necessary libraries\n",
    "from sklearn.feature_extraction.text import TfidfTransformer\n",
    "from sklearn.naive_bayes import MultinomialNB\n",
    "from sklearn.metrics import classification_report\n",
    "from sklearn.pipeline import Pipeline"
   ]
  },
  {
   "cell_type": "code",
   "execution_count": 31,
   "id": "c59e16d2",
   "metadata": {},
   "outputs": [],
   "source": [
    "pipeline = Pipeline([\n",
    "            ('bow',CountVectorizer(analyzer=remove_sw_pun)),\n",
    "            ('tftdf',TfidfTransformer()),\n",
    "            ('classifier',MultinomialNB())\n",
    "            ])                                                 # creating pipeline with sequence of functions to perfrom on the text"
   ]
  },
  {
   "cell_type": "code",
   "execution_count": 32,
   "id": "74f7eb63",
   "metadata": {},
   "outputs": [
    {
     "data": {
      "text/html": [
       "<style>#sk-container-id-3 {color: black;}#sk-container-id-3 pre{padding: 0;}#sk-container-id-3 div.sk-toggleable {background-color: white;}#sk-container-id-3 label.sk-toggleable__label {cursor: pointer;display: block;width: 100%;margin-bottom: 0;padding: 0.3em;box-sizing: border-box;text-align: center;}#sk-container-id-3 label.sk-toggleable__label-arrow:before {content: \"▸\";float: left;margin-right: 0.25em;color: #696969;}#sk-container-id-3 label.sk-toggleable__label-arrow:hover:before {color: black;}#sk-container-id-3 div.sk-estimator:hover label.sk-toggleable__label-arrow:before {color: black;}#sk-container-id-3 div.sk-toggleable__content {max-height: 0;max-width: 0;overflow: hidden;text-align: left;background-color: #f0f8ff;}#sk-container-id-3 div.sk-toggleable__content pre {margin: 0.2em;color: black;border-radius: 0.25em;background-color: #f0f8ff;}#sk-container-id-3 input.sk-toggleable__control:checked~div.sk-toggleable__content {max-height: 200px;max-width: 100%;overflow: auto;}#sk-container-id-3 input.sk-toggleable__control:checked~label.sk-toggleable__label-arrow:before {content: \"▾\";}#sk-container-id-3 div.sk-estimator input.sk-toggleable__control:checked~label.sk-toggleable__label {background-color: #d4ebff;}#sk-container-id-3 div.sk-label input.sk-toggleable__control:checked~label.sk-toggleable__label {background-color: #d4ebff;}#sk-container-id-3 input.sk-hidden--visually {border: 0;clip: rect(1px 1px 1px 1px);clip: rect(1px, 1px, 1px, 1px);height: 1px;margin: -1px;overflow: hidden;padding: 0;position: absolute;width: 1px;}#sk-container-id-3 div.sk-estimator {font-family: monospace;background-color: #f0f8ff;border: 1px dotted black;border-radius: 0.25em;box-sizing: border-box;margin-bottom: 0.5em;}#sk-container-id-3 div.sk-estimator:hover {background-color: #d4ebff;}#sk-container-id-3 div.sk-parallel-item::after {content: \"\";width: 100%;border-bottom: 1px solid gray;flex-grow: 1;}#sk-container-id-3 div.sk-label:hover label.sk-toggleable__label {background-color: #d4ebff;}#sk-container-id-3 div.sk-serial::before {content: \"\";position: absolute;border-left: 1px solid gray;box-sizing: border-box;top: 0;bottom: 0;left: 50%;z-index: 0;}#sk-container-id-3 div.sk-serial {display: flex;flex-direction: column;align-items: center;background-color: white;padding-right: 0.2em;padding-left: 0.2em;position: relative;}#sk-container-id-3 div.sk-item {position: relative;z-index: 1;}#sk-container-id-3 div.sk-parallel {display: flex;align-items: stretch;justify-content: center;background-color: white;position: relative;}#sk-container-id-3 div.sk-item::before, #sk-container-id-3 div.sk-parallel-item::before {content: \"\";position: absolute;border-left: 1px solid gray;box-sizing: border-box;top: 0;bottom: 0;left: 50%;z-index: -1;}#sk-container-id-3 div.sk-parallel-item {display: flex;flex-direction: column;z-index: 1;position: relative;background-color: white;}#sk-container-id-3 div.sk-parallel-item:first-child::after {align-self: flex-end;width: 50%;}#sk-container-id-3 div.sk-parallel-item:last-child::after {align-self: flex-start;width: 50%;}#sk-container-id-3 div.sk-parallel-item:only-child::after {width: 0;}#sk-container-id-3 div.sk-dashed-wrapped {border: 1px dashed gray;margin: 0 0.4em 0.5em 0.4em;box-sizing: border-box;padding-bottom: 0.4em;background-color: white;}#sk-container-id-3 div.sk-label label {font-family: monospace;font-weight: bold;display: inline-block;line-height: 1.2em;}#sk-container-id-3 div.sk-label-container {text-align: center;}#sk-container-id-3 div.sk-container {/* jupyter's `normalize.less` sets `[hidden] { display: none; }` but bootstrap.min.css set `[hidden] { display: none !important; }` so we also need the `!important` here to be able to override the default hidden behavior on the sphinx rendered scikit-learn.org. See: https://github.com/scikit-learn/scikit-learn/issues/21755 */display: inline-block !important;position: relative;}#sk-container-id-3 div.sk-text-repr-fallback {display: none;}</style><div id=\"sk-container-id-3\" class=\"sk-top-container\"><div class=\"sk-text-repr-fallback\"><pre>Pipeline(steps=[(&#x27;bow&#x27;,\n",
       "                 CountVectorizer(analyzer=&lt;function remove_sw_pun at 0x163b728e0&gt;)),\n",
       "                (&#x27;tftdf&#x27;, TfidfTransformer()),\n",
       "                (&#x27;classifier&#x27;, MultinomialNB())])</pre><b>In a Jupyter environment, please rerun this cell to show the HTML representation or trust the notebook. <br />On GitHub, the HTML representation is unable to render, please try loading this page with nbviewer.org.</b></div><div class=\"sk-container\" hidden><div class=\"sk-item sk-dashed-wrapped\"><div class=\"sk-label-container\"><div class=\"sk-label sk-toggleable\"><input class=\"sk-toggleable__control sk-hidden--visually\" id=\"sk-estimator-id-8\" type=\"checkbox\" ><label for=\"sk-estimator-id-8\" class=\"sk-toggleable__label sk-toggleable__label-arrow\">Pipeline</label><div class=\"sk-toggleable__content\"><pre>Pipeline(steps=[(&#x27;bow&#x27;,\n",
       "                 CountVectorizer(analyzer=&lt;function remove_sw_pun at 0x163b728e0&gt;)),\n",
       "                (&#x27;tftdf&#x27;, TfidfTransformer()),\n",
       "                (&#x27;classifier&#x27;, MultinomialNB())])</pre></div></div></div><div class=\"sk-serial\"><div class=\"sk-item\"><div class=\"sk-estimator sk-toggleable\"><input class=\"sk-toggleable__control sk-hidden--visually\" id=\"sk-estimator-id-9\" type=\"checkbox\" ><label for=\"sk-estimator-id-9\" class=\"sk-toggleable__label sk-toggleable__label-arrow\">CountVectorizer</label><div class=\"sk-toggleable__content\"><pre>CountVectorizer(analyzer=&lt;function remove_sw_pun at 0x163b728e0&gt;)</pre></div></div></div><div class=\"sk-item\"><div class=\"sk-estimator sk-toggleable\"><input class=\"sk-toggleable__control sk-hidden--visually\" id=\"sk-estimator-id-10\" type=\"checkbox\" ><label for=\"sk-estimator-id-10\" class=\"sk-toggleable__label sk-toggleable__label-arrow\">TfidfTransformer</label><div class=\"sk-toggleable__content\"><pre>TfidfTransformer()</pre></div></div></div><div class=\"sk-item\"><div class=\"sk-estimator sk-toggleable\"><input class=\"sk-toggleable__control sk-hidden--visually\" id=\"sk-estimator-id-11\" type=\"checkbox\" ><label for=\"sk-estimator-id-11\" class=\"sk-toggleable__label sk-toggleable__label-arrow\">MultinomialNB</label><div class=\"sk-toggleable__content\"><pre>MultinomialNB()</pre></div></div></div></div></div></div></div>"
      ],
      "text/plain": [
       "Pipeline(steps=[('bow',\n",
       "                 CountVectorizer(analyzer=<function remove_sw_pun at 0x163b728e0>)),\n",
       "                ('tftdf', TfidfTransformer()),\n",
       "                ('classifier', MultinomialNB())])"
      ]
     },
     "execution_count": 32,
     "metadata": {},
     "output_type": "execute_result"
    }
   ],
   "source": [
    "pipeline.fit(text_train,y_train)                               # fitting train data"
   ]
  },
  {
   "cell_type": "code",
   "execution_count": 33,
   "id": "0e1a3a87",
   "metadata": {},
   "outputs": [],
   "source": [
    "predictions = pipeline.predict(text_test)                      # predicting using test data on the model"
   ]
  },
  {
   "cell_type": "code",
   "execution_count": 34,
   "id": "9ad32095",
   "metadata": {},
   "outputs": [
    {
     "name": "stdout",
     "output_type": "stream",
     "text": [
      "              precision    recall  f1-score   support\n",
      "\n",
      "         ham       0.88      1.00      0.94       735\n",
      "        spam       1.00      0.67      0.80       300\n",
      "\n",
      "    accuracy                           0.91      1035\n",
      "   macro avg       0.94      0.84      0.87      1035\n",
      "weighted avg       0.92      0.91      0.90      1035\n",
      "\n"
     ]
    }
   ],
   "source": [
    "print(classification_report(y_test,predictions))               # showing F1-score and accuracy value for Multinomial NaiveBayes model"
   ]
  },
  {
   "cell_type": "code",
   "execution_count": 35,
   "id": "724e8489",
   "metadata": {},
   "outputs": [
    {
     "name": "stdout",
     "output_type": "stream",
     "text": [
      "The f1-score of the model on spam is: 0.8047808764940239\n",
      "The f1-score of the model on ham is: 0.9375\n",
      "The f1-score of the model is: [0.9375     0.80478088]\n",
      "The accuracy of the model is 0.9053140096618357\n"
     ]
    }
   ],
   "source": [
    "f1s = f1_score(y_test,predictions,pos_label='spam') #alternate method to calculate F1-score and accuracy using f1_score and accuracy_score class\n",
    "print('The f1-score of the model on spam is:',f1s)\n",
    "f1h = f1_score(y_test,predictions,pos_label='ham')\n",
    "print('The f1-score of the model on ham is:',f1h)\n",
    "f1t = f1_score(y_test,predictions,average=None)\n",
    "print('The f1-score of the model is:',f1t)\n",
    "acs = accuracy_score(y_test,predictions)\n",
    "print('The accuracy of the model is',acs)"
   ]
  },
  {
   "cell_type": "code",
   "execution_count": null,
   "id": "fd16eee2",
   "metadata": {},
   "outputs": [],
   "source": []
  }
 ],
 "metadata": {
  "kernelspec": {
   "display_name": "Python 3 (ipykernel)",
   "language": "python",
   "name": "python3"
  },
  "language_info": {
   "codemirror_mode": {
    "name": "ipython",
    "version": 3
   },
   "file_extension": ".py",
   "mimetype": "text/x-python",
   "name": "python",
   "nbconvert_exporter": "python",
   "pygments_lexer": "ipython3",
   "version": "3.11.0"
  }
 },
 "nbformat": 4,
 "nbformat_minor": 5
}
